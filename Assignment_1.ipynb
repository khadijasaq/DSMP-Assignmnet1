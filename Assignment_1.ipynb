{
  "nbformat": 4,
  "nbformat_minor": 0,
  "metadata": {
    "colab": {
      "provenance": []
    },
    "kernelspec": {
      "name": "python3",
      "display_name": "Python 3"
    },
    "language_info": {
      "name": "python"
    }
  },
  "cells": [
    {
      "cell_type": "markdown",
      "source": [
        "# **Assignment 1**"
      ],
      "metadata": {
        "id": "-ep9bDtdKsuj"
      }
    },
    {
      "cell_type": "markdown",
      "source": [
        "**Task 1:Program to input name including comments**"
      ],
      "metadata": {
        "id": "OnA4AwP7MEvi"
      }
    },
    {
      "cell_type": "code",
      "source": [
        "\"\"\"Following code will print the fulkl name \"\"\"\n",
        "full_name=input() #this line will take input\n",
        "print(\"My full name is \",full_name) #this line wil print the full name"
      ],
      "metadata": {
        "colab": {
          "base_uri": "https://localhost:8080/"
        },
        "id": "V36b80RhK1ZP",
        "outputId": "b1610ade-7d6c-4109-a631-71321e3b666f"
      },
      "execution_count": null,
      "outputs": [
        {
          "output_type": "stream",
          "name": "stdout",
          "text": [
            "Khadija Shahzad\n",
            "Khadija Shahzad\n"
          ]
        }
      ]
    },
    {
      "cell_type": "markdown",
      "source": [
        "**Task 2: Identification of Errors**"
      ],
      "metadata": {
        "id": "j6tC871oL-mv"
      }
    },
    {
      "cell_type": "markdown",
      "source": [
        "* print(\"Welcome to Python!\"  **(Syntax error as there are no closing brackets)**\n",
        "* result=10/0                 **(Runtime Error as invalid operation)**\n",
        "* my_list=[1,2,3              **(Syntax error as no closing brackets)**\n",
        "* print(my_list[3])           **(Index error as list out of range)**\n",
        "\n",
        "\n",
        "\n"
      ],
      "metadata": {
        "id": "486mSfCgMXMO"
      }
    },
    {
      "cell_type": "markdown",
      "source": [
        "**Task 3:Variable Assignment**"
      ],
      "metadata": {
        "id": "Ny5jNb0lODa9"
      }
    },
    {
      "cell_type": "code",
      "source": [
        "name=\"Khadija\"\n",
        "age=19\n",
        "height=5.2\n",
        "student=True\n",
        "\n",
        "print('My name is',name,type(name))\n",
        "print('My age is',age,type(age))\n",
        "print('My height is',height,type(height))\n",
        "print('I am a student',student,type(student))"
      ],
      "metadata": {
        "colab": {
          "base_uri": "https://localhost:8080/"
        },
        "id": "fNGzEgHMOIJ3",
        "outputId": "df1ac8f8-e5da-4214-e7c1-7601b36dbac0"
      },
      "execution_count": null,
      "outputs": [
        {
          "output_type": "stream",
          "name": "stdout",
          "text": [
            "My name is Khadija <class 'str'>\n",
            "My age is 19 <class 'int'>\n",
            "My height is 5.2 <class 'float'>\n",
            "I am a student True <class 'bool'>\n"
          ]
        }
      ]
    },
    {
      "cell_type": "markdown",
      "source": [
        "**Tsk 4:Descriptive Variable Names**\n",
        "\n",
        "\n",
        "\n",
        "\n",
        "\n"
      ],
      "metadata": {
        "id": "_4dXJyVpOwz8"
      }
    },
    {
      "cell_type": "code",
      "source": [
        "a=5\n",
        "b=10\n",
        "c=a*b\n",
        "print(c)\n",
        "\n",
        "#here the code is in the forem of descrpitive variables\n",
        "\n",
        "length=5\n",
        "width=10\n",
        "area=length*width\n",
        "print(area)"
      ],
      "metadata": {
        "colab": {
          "base_uri": "https://localhost:8080/"
        },
        "id": "aUhleB96P9Xb",
        "outputId": "bf9bfe6c-d23d-4e34-927f-7fb47db1cca5"
      },
      "execution_count": null,
      "outputs": [
        {
          "output_type": "stream",
          "name": "stdout",
          "text": [
            "50\n",
            "50\n"
          ]
        }
      ]
    },
    {
      "cell_type": "markdown",
      "source": [
        "**Task 5:Numeric Type of Operations**"
      ],
      "metadata": {
        "id": "V4D6dkzsQUj2"
      }
    },
    {
      "cell_type": "code",
      "source": [
        "addition= 12+13                 #addition of 2 integers\n",
        "subtraction= 13-12.45           #subtraction of float and integer\n",
        "multiplication= 14.5*(3+4j)     #multiplication of float and complex number\n",
        "#division= 5/0                   #division of integer by zero\n",
        "\n",
        "print(\"sum of two integers are\",addition)\n",
        "print(\"subtraction of float and integer are\",subtraction)\n",
        "print(\"multiplication of float and complex number is \",multiplication)\n",
        "#print(\"division of a number by zero is\",division)"
      ],
      "metadata": {
        "colab": {
          "base_uri": "https://localhost:8080/"
        },
        "id": "YQIEPGygQcOZ",
        "outputId": "7c258edf-2cbb-4a0b-f004-b301217b29c5"
      },
      "execution_count": null,
      "outputs": [
        {
          "output_type": "stream",
          "name": "stdout",
          "text": [
            "sum of two integers are 25\n",
            "subtraction of float and integer are 0.5500000000000007\n",
            "multiplication of float and complex number is  (43.5+58j)\n"
          ]
        }
      ]
    },
    {
      "cell_type": "markdown",
      "source": [
        "When we perform the last statememt code **Zero Division Error** occurs"
      ],
      "metadata": {
        "id": "C3shFUk2VyLN"
      }
    },
    {
      "cell_type": "markdown",
      "source": [
        "**Task 6:Built-In Functions**"
      ],
      "metadata": {
        "id": "m63JFJ07WGlN"
      }
    },
    {
      "cell_type": "code",
      "source": [
        "\"\"\"list_of_numbers = list(map(int, input(\"Enter list elements: \").split()))\n",
        "                    or\"\"\"\n",
        "\n",
        "list_of_numbers=[-5,3.2,-1,0,12]\n",
        "maximum=max(list_of_numbers)\n",
        "minimum=min(list_of_numbers)\n",
        "\n",
        "print(\"maximum value in the list is\",maximum)\n",
        "print(\"minimum value in the list is\",minimum)\n",
        "\n",
        "print(\"absolute value of first element is\",abs(list_of_numbers[0]))\n",
        "print(\"absolute value of secondt element is\",abs(list_of_numbers[1]))\n",
        "print(\"absolute value of third element is\",abs(list_of_numbers[2]))\n",
        "print(\"absolute value of fourth element is\",abs(list_of_numbers[3]))\n",
        "print(\"absolute value of fifth element is\",abs(list_of_numbers[4]))"
      ],
      "metadata": {
        "colab": {
          "base_uri": "https://localhost:8080/"
        },
        "id": "oxch2wklWvYM",
        "outputId": "7cc76bde-a6b8-4705-ed1b-aa629421aad2"
      },
      "execution_count": null,
      "outputs": [
        {
          "output_type": "stream",
          "name": "stdout",
          "text": [
            "maximum value in the lsit is 12\n",
            "minimum value in the lsit is -5\n",
            "absolute value of first element is 5\n",
            "absolute value of secondt element is 3.2\n",
            "absolute value of third element is 1\n",
            "absolute value of fourth element is 0\n",
            "absolute value of fifth element is 12\n"
          ]
        }
      ]
    },
    {
      "cell_type": "markdown",
      "source": [
        "**Task 6:Calculator Program**"
      ],
      "metadata": {
        "id": "9PxIfEGJac1R"
      }
    },
    {
      "cell_type": "code",
      "source": [
        "number1=int(input(\"Enter first number \"))\n",
        "number2=int(input(\"Enter second number \"))\n",
        "\n",
        "operation=input(\"Enter + for addition,- for subtraction,* for multiplication and / for division \")\n",
        "\n",
        "if operation==\"+\":\n",
        "  print(\"addition is\",number1+number2)\n",
        "elif operation==\"-\":\n",
        "  print(\"subtraction is\",number1-number2)\n",
        "elif operation==\"*\":\n",
        "  print(\"multiplication is\",number1*number2)\n",
        "elif operation==\"/\":\n",
        "  if number2==0:\n",
        "    raise Exception(\"Division will be invalid\")\n",
        "  print(\"division is\",number1/number2)\n",
        "else:\n",
        "  print(\"Invalid Operation\")"
      ],
      "metadata": {
        "colab": {
          "base_uri": "https://localhost:8080/"
        },
        "id": "WcqrPX8icgUS",
        "outputId": "59a29974-7d2b-4b0f-a92e-a4855ad394ac"
      },
      "execution_count": null,
      "outputs": [
        {
          "output_type": "stream",
          "name": "stdout",
          "text": [
            "Enter first number 3\n",
            "Enter second number 4\n",
            "Enter + for addition,- for subtraction,* for multiplication and / for division *\n",
            "multiplication is 12\n"
          ]
        }
      ]
    }
  ]
}